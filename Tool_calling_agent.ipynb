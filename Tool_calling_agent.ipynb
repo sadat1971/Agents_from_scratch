{
 "cells": [
  {
   "cell_type": "markdown",
   "id": "19523071-3961-4323-a39f-90ce75eb5047",
   "metadata": {},
   "source": [
    "# A simple tool calling agent"
   ]
  },
  {
   "cell_type": "markdown",
   "id": "9a908964-0e0f-445f-9304-1d7fd345564d",
   "metadata": {},
   "source": [
    "In the first stage of the building agents, we will create a tool calling agent. I will explain step by step, how you can make a simple but powerful AI application but letting it interact with the real world, empowering it with tools. And yes, everything without using any agentic framework. \n",
    "\n",
    "All you need, is an openAI LLM access :) \n",
    "\n",
    "Thanks and many credit goes to: https://github.com/neural-maze/agentic-patterns-course/tree/main\n",
    "\n",
    "Thanks to Neural Maze YoutTube channel: https://www.youtube.com/@TheNeuralMaze"
   ]
  },
  {
   "cell_type": "code",
   "execution_count": 1,
   "id": "56063250-68fd-46e6-9b24-856f2ed2adae",
   "metadata": {},
   "outputs": [],
   "source": [
    "import json\n",
    "from typing import Callable, List\n",
    "import requests\n",
    "from ddgs import DDGS\n",
    "import re\n",
    "import subprocess\n",
    "from openai import OpenAI \n",
    "import os\n",
    "import warnings\n",
    "warnings.filterwarnings(\"ignore\")"
   ]
  },
  {
   "cell_type": "markdown",
   "id": "1c13f78f-527c-4f71-bbfa-0bddde1eeaac",
   "metadata": {},
   "source": [
    "## **Step 1**: The following function will create a signature of the python function. Since,we will give our agents many tools to use, it is better if the tools have a schema. "
   ]
  },
  {
   "cell_type": "code",
   "execution_count": 2,
   "id": "d4200b94-b474-490d-97c2-c58326d47e63",
   "metadata": {},
   "outputs": [],
   "source": [
    "def get_fn_signature(fn: Callable) -> dict:\n",
    "    \"\"\"\n",
    "    Generates the signature for a given function.\n",
    "\n",
    "    Args:\n",
    "        fn (Callable): The function whose signature needs to be extracted.\n",
    "\n",
    "    Returns:\n",
    "        dict: A dictionary containing the function's name, description,\n",
    "              and parameter types.\n",
    "    \"\"\"\n",
    "    fn_signature: dict = {\n",
    "        \"name\": fn.__name__,\n",
    "        \"description\": fn.__doc__,\n",
    "        \"parameters\": {\"properties\": {}},\n",
    "    }\n",
    "    schema = {\n",
    "        k: {\"type\": v.__name__} for k, v in fn.__annotations__.items() if k != \"return\"\n",
    "    }\n",
    "    fn_signature[\"parameters\"][\"properties\"] = schema\n",
    "    return fn_signature"
   ]
  },
  {
   "cell_type": "markdown",
   "id": "806b80b6-485c-41dd-b07a-56370b954b16",
   "metadata": {},
   "source": [
    "## **Step 2**: We will build some tools"
   ]
  },
  {
   "cell_type": "code",
   "execution_count": 3,
   "id": "a9444ef2-fd7a-4414-8bac-3c3c3a3f7f5b",
   "metadata": {},
   "outputs": [],
   "source": [
    "def count_letter_occurrence(text:str, letter:str)-> dict():\n",
    "    \"\"\"\n",
    "    The function helps counting the number of occurrence of a letter in a word\n",
    "\n",
    "    #Inputs:\n",
    "    text: str, the word or sentence or the text whose specific letter is to be counted\n",
    "    letter: str, the letter whose occurrence is to be counted\n",
    "\n",
    "    # Output:\n",
    "    {\"occurrence_count\":occurrence_count}\n",
    "    How many times the letter occurs\n",
    "    \n",
    "    \"\"\"\n",
    "    occurrence_count = 0\n",
    "    for L in text:\n",
    "        if L==letter:\n",
    "            occurrence_count += 1\n",
    "\n",
    "    return {\"occurrence_count\":occurrence_count}\n",
    "\n",
    "\n",
    "\n",
    "def find_location_of_a_file(filename:str)->str:\n",
    "    \"\"\"\n",
    "    Search for the specified file on macOS using Spotlight's `mdfind` command.\n",
    "\n",
    "    Finds the location of a file on macOS. The search is case-insensitive and\n",
    "    will return all matching file paths if found.\n",
    "\n",
    "    Parameters\n",
    "    ----------\n",
    "    filename : str\n",
    "        The name of the file to search for (e.g., \"document.pdf\").\n",
    "        \n",
    "    Returns\n",
    "    -------\n",
    "    str\n",
    "        - A newline-separated string containing one or more full file paths\n",
    "          to matching files if found.\n",
    "        - The string \"Not found\" if no matches are returned by `mdfind`.\n",
    "\n",
    "    \"\"\"\n",
    "    out = subprocess.run(\n",
    "        [\"/usr/bin/mdfind\", \"-name\", filename],\n",
    "        stdout=subprocess.PIPE,\n",
    "        stderr=subprocess.PIPE,\n",
    "        text=True,\n",
    "        check=False)\n",
    "\n",
    "    if out.stdout==\"\":\n",
    "        return \"Not found\"\n",
    "    else:\n",
    "        return out.stdout\n",
    "    \n",
    "\n",
    "def news(what_news:str):\n",
    "    \"\"\"\n",
    "    Upon having a news item to search, it returns a set of items about that news item\n",
    "    \"\"\"\n",
    "\n",
    "    return DDGS().news(query=what_news)\n",
    "    "
   ]
  },
  {
   "cell_type": "markdown",
   "id": "a6083fbd-8999-4366-a5b2-2bd1d90dfd10",
   "metadata": {},
   "source": [
    "## LLM Essentials\n",
    "\n",
    "Get the key yourself :) "
   ]
  },
  {
   "cell_type": "code",
   "execution_count": 4,
   "id": "d89a7317-9213-4a9e-aee6-0bb8994b7fb4",
   "metadata": {},
   "outputs": [],
   "source": [
    "## Set the API key and model name\n",
    "MODEL=\"gpt-4o-mini\"\n",
    "\n",
    "os.environ[\"OPENAI_API_KEY\"] = \"sk-proj-xxxxxxxxxx\"\n",
    "\n",
    "client = OpenAI(api_key=os.environ[\"OPENAI_API_KEY\"])"
   ]
  },
  {
   "cell_type": "markdown",
   "id": "51324182-716e-4f76-bf18-3a7602c077a1",
   "metadata": {},
   "source": [
    "## **Step 3:** Build the system prompt to make an LLM a tool mapper.\n",
    "\n",
    "Cool, isn't it?\n"
   ]
  },
  {
   "cell_type": "code",
   "execution_count": 5,
   "id": "bcfd17ca-a05b-4ab1-8118-f60c6a29afba",
   "metadata": {},
   "outputs": [],
   "source": [
    "TOOL_SYSTEM_PROMPT = f\"\"\"\n",
    "You are a function calling AI model. You are provided with function signatures within <tools></tools> XML tags. \n",
    "You may call one or more functions to assist with the user query. Don't make assumptions about what values to plug \n",
    "into functions. Pay special attention to the properties 'types'. You should use those types as in a Python dict.\n",
    "For each function call return a json object with function name and arguments within <tool_call></tool_call> XML tags as follows:\n",
    "\n",
    "<tool_call>\n",
    "{{\"name\": <function-name>,\"arguments\": <args-dict>}}\n",
    "</tool_call>\n",
    "\n",
    "Here are the available tools:\n",
    "\n",
    "{get_fn_signature(count_letter_occurrence)}\n",
    "\n",
    "{get_fn_signature(find_location_of_a_file)}\n",
    "\n",
    "{get_fn_signature(news)}\n",
    "\n",
    "\n",
    "</tools>\n",
    "\"\"\""
   ]
  },
  {
   "cell_type": "code",
   "execution_count": null,
   "id": "237357e8-35d8-48d2-8937-8d0fb94c4a20",
   "metadata": {},
   "outputs": [],
   "source": []
  },
  {
   "cell_type": "markdown",
   "id": "f23a6d64-6925-415e-a89c-e95d78586f3e",
   "metadata": {},
   "source": [
    "## **Step 4:** Once we have the tools, we will also build a tool mapper. \n",
    "\n",
    "You see, when the LLm will decide which tool to use, we also need a mapper. because the LLM will output string, but the tools are in python function. Hence a mapper is necessary"
   ]
  },
  {
   "cell_type": "code",
   "execution_count": 6,
   "id": "d4397280-2604-461a-b485-360bd8a78d73",
   "metadata": {},
   "outputs": [],
   "source": [
    "def tool_mapper(funcname, args):\n",
    "    if funcname==\"count_letter_occurrence\":\n",
    "        return count_letter_occurrence(**args)\n",
    "    elif funcname==\"news\":\n",
    "        return news(**args)\n",
    "    elif funcname==\"find_location_of_a_file\":\n",
    "        return find_location_of_a_file(**args)\n",
    "    else:\n",
    "        return \"Not found\""
   ]
  },
  {
   "cell_type": "markdown",
   "id": "60ad20fc-638f-4e99-b1da-0e195a96f8ad",
   "metadata": {},
   "source": [
    "## **Step 5:** You need to parse the output from the LLM. \n"
   ]
  },
  {
   "cell_type": "code",
   "execution_count": 7,
   "id": "2b6290ca-69e7-4e5b-b817-5516b851029c",
   "metadata": {},
   "outputs": [],
   "source": [
    "def parse_tool_call_str(tool_call_str: str):\n",
    "    pattern = r'</?tool_call>'\n",
    "    clean_tags = re.sub(pattern, '', tool_call_str)\n",
    "    \n",
    "    try:\n",
    "        tool_call_json = json.loads(clean_tags)\n",
    "        return tool_call_json, True\n",
    "    except json.JSONDecodeError:\n",
    "        return clean_tags, False\n",
    "    except Exception as e:\n",
    "        print(f\"Unexpected error: {e}\")\n",
    "        return \"There was some error parsing the Tool's output\", False"
   ]
  },
  {
   "cell_type": "code",
   "execution_count": null,
   "id": "b7f96937-cb5e-4ccf-8d4d-468b40398e9d",
   "metadata": {},
   "outputs": [],
   "source": []
  },
  {
   "cell_type": "markdown",
   "id": "03e0635e-9dc0-4446-8d21-8f78af179b64",
   "metadata": {},
   "source": [
    "## Step 6: Build the agent\n",
    "\n",
    "We are now ready to build our tool calling agent. We only have 3 simple tools, but feel free to add as many as you want.\n",
    "The agent will simply decide which tool to use. Then, once it calls  tool, we will have a system in place to execute it. Finally, we will clean the tool calling output and again call the LLM to ouput a human-readable clean version"
   ]
  },
  {
   "cell_type": "code",
   "execution_count": null,
   "id": "4fe8bb56-747a-459f-8915-6af52fcdb4dd",
   "metadata": {},
   "outputs": [],
   "source": []
  },
  {
   "cell_type": "code",
   "execution_count": 8,
   "id": "6ff94d36-247f-45c5-a65e-09bfb7db60b9",
   "metadata": {},
   "outputs": [],
   "source": [
    "def tool_calling_agent(Query:str=\"Who is winner in todays game\", verbose=True):\n",
    "    completion = client.chat.completions.create(\n",
    "          model=MODEL,\n",
    "          messages=[\n",
    "            {\"role\": \"system\", \"content\": TOOL_SYSTEM_PROMPT}, # <-- This is the system message that provides context to the model\n",
    "            {\"role\": \"user\", \"content\": Query}  # <-- This is the user message for which the model will generate a response\n",
    "          ]\n",
    "        \n",
    "        )\n",
    "    if verbose:\n",
    "        print(f\"===== First Completion Ouptut:\\n{completion.choices[0].message.content}=====\\n\\n\")\n",
    "    parsed, status = parse_tool_call_str(completion.choices[0].message.content)\n",
    "    if verbose:\n",
    "        print(f\"===== Here's the parsed Ouptut:\\n{parsed}=====\")\n",
    "        \n",
    "    if status==False:\n",
    "        print(f\"~~~~ The tool being used: None\")\n",
    "        return parsed\n",
    "    output = tool_mapper(funcname=parsed['name'], args=parsed[\"arguments\"])\n",
    "\n",
    "    if verbose:\n",
    "        print(f\"==== Too output: {output}\")\n",
    "    \n",
    "    full_response_prompt = f\"\"\"Question: {Query}\\n\\n\n",
    "    Response: {output} \\n\\n\n",
    "    summary or brief response:\n",
    "    \n",
    "    \"\"\"\n",
    "    \n",
    "    completion2 = client.chat.completions.create(\n",
    "          model=MODEL,\n",
    "          messages=[\n",
    "            {\"role\": \"system\", \"content\": \"Given a question and the response, your job is to summarize or present a very brielf to the point answer\"}, # <-- This is the system message that provides context to the model\n",
    "            {\"role\": \"user\", \"content\": full_response_prompt}  # <-- This is the user message for which the model will generate a response\n",
    "          ]\n",
    "        \n",
    "        )\n",
    "    print(f\"~~~~ The tool being used: {parsed['name']} ~~~~~\\n\\n\\n\")\n",
    "    return completion2.choices[0].message.content"
   ]
  },
  {
   "cell_type": "code",
   "execution_count": null,
   "id": "23d1cf55-d674-49fa-a77b-62308e81d6a0",
   "metadata": {},
   "outputs": [],
   "source": [
    "\n"
   ]
  },
  {
   "cell_type": "code",
   "execution_count": 12,
   "id": "7669bb3a-296b-4805-8b24-00abaf45ef13",
   "metadata": {},
   "outputs": [
    {
     "name": "stdout",
     "output_type": "stream",
     "text": [
      "~~~~ The tool being used: news ~~~~~\n",
      "\n",
      "\n",
      "\n",
      "Bangladesh won the T20I series against the Netherlands 2-0 after the final match was abandoned due to rain.\n"
     ]
    }
   ],
   "source": [
    "output = tool_calling_agent(\"In the game of Bangladesh vs Netherland T20i, who was the winner?\", verbose=False)\n",
    "print(output)"
   ]
  },
  {
   "cell_type": "code",
   "execution_count": 13,
   "id": "31a2145f-026c-4c6c-99aa-a19177dcd431",
   "metadata": {},
   "outputs": [
    {
     "name": "stdout",
     "output_type": "stream",
     "text": [
      "~~~~ The tool being used: count_letter_occurrence ~~~~~\n",
      "\n",
      "\n",
      "\n",
      "There are 3 'r's in Strawberry.\n"
     ]
    }
   ],
   "source": [
    "output = tool_calling_agent(\"How many r is there in Strawberry\", verbose=False)\n",
    "print(output)"
   ]
  },
  {
   "cell_type": "code",
   "execution_count": 14,
   "id": "fbb3b86b-d4d6-47c7-9bd6-9b8d38ae948e",
   "metadata": {},
   "outputs": [
    {
     "name": "stdout",
     "output_type": "stream",
     "text": [
      "~~~~ The tool being used: find_location_of_a_file ~~~~~\n",
      "\n",
      "\n",
      "\n",
      "The file demo_v2.ipynb can be found in the following locations:  \n",
      "1. /Users/sadatsh/Downloads/demo_v2.ipynb  \n",
      "2. /Users/sadatsh/Documents/GenesisApeScience/notebooks/demo_v2.ipynb  \n"
     ]
    }
   ],
   "source": [
    "output = tool_calling_agent(\"I cannot find the file demo_v2.ipynb in my local computer :(\", verbose=False)\n",
    "print(output)"
   ]
  },
  {
   "cell_type": "code",
   "execution_count": 15,
   "id": "42cfba84-e755-4455-b9e4-585934283fad",
   "metadata": {},
   "outputs": [
    {
     "name": "stdout",
     "output_type": "stream",
     "text": [
      "~~~~ The tool being used: None\n",
      "The capital of Qatar is Doha.\n"
     ]
    }
   ],
   "source": [
    "output = tool_calling_agent(\"What is the capital of Quatar?\", verbose=False)\n",
    "print(output)"
   ]
  },
  {
   "cell_type": "code",
   "execution_count": 16,
   "id": "08549654-ce7d-4048-830c-8feb5e2b5d50",
   "metadata": {},
   "outputs": [
    {
     "name": "stdout",
     "output_type": "stream",
     "text": [
      "===== First Completion Ouptut:\n",
      "<tool_call>\n",
      "{\"name\": \"news\",\"arguments\": {\"what_news\": \"Mexico\"}}\n",
      "</tool_call>=====\n",
      "\n",
      "\n",
      "===== Here's the parsed Ouptut:\n",
      "{'name': 'news', 'arguments': {'what_news': 'Mexico'}}=====\n",
      "==== Too output: [{'date': '2025-09-04T01:17:00+00:00', 'title': '🥳 Party time: Mexico gears up for the start of World Cup 2026', 'body': 'The Head of Government, Clara Brugada, announced that June 11, 2026, the date on which the World Cup inauguration will take place at the Azteca Stadium, will be declared an official holiday in Mexico', 'url': 'https://sports.yahoo.com/article/party-time-mexico-gears-start-011200577.html', 'image': 'https://s.yimg.com/ny/api/res/1.2/PTwnJP.ZRVJlakPl5LZjyw--/YXBwaWQ9aGlnaGxhbmRlcjt3PTEyMDA7aD03Nzg7Y2Y9d2VicA--/https://media.zenfs.com/en/onefootball_articles_802/a3c9f2abb407e19ebabbd0bda18a56ec', 'source': 'Yahoo Sports'}, {'date': '2025-09-03T19:57:00+00:00', 'title': 'Rubio Reassures Mexico After U.S. Military Strike Jolts Region', 'body': 'Secretary of state agreed to strengthen security cooperation with Mexico a day after strike against drug-carrying boat in Caribbean.', 'url': 'https://www.msn.com/en-us/news/world/rubio-reassures-mexico-after-u-s-military-strike-jolts-region/ar-AA1LOWit', 'image': 'https://img-s-msn-com.akamaized.net/tenant/amp/entityid/AA1LOReZ.img?w=1280&h=854&m=4&q=77', 'source': 'The Wall Street Journal'}, {'date': '2025-09-03T20:44:57+00:00', 'title': 'Mexico emphasizes sovereignty, good ties during Rubio visit', 'body': 'U.S. Secretary of State Marco Rubio said on Wednesday that security cooperation with Mexico was closer than it had ever been, during a visit to the country as the Trump administration pursues a sweeping crackdown on illegal immigration and drug cartels.', 'url': 'https://www.msn.com/en-ca/news/world/mexico-emphasizes-sovereignty-good-ties-during-rubio-visit/ar-AA1LOMOe', 'image': 'https://www.reuters.com/resizer/v2/U3NIPATUDJICJEXQZ4BFXZ2A3M.jpg?auth=528435a1de0c6423c9dae852acda63715ff7f3134d00bea307ea7a0911bff978&width=1080&quality=80', 'source': 'Reuters'}, {'date': '2025-09-03T20:25:00+00:00', 'title': 'U.S. and Mexico Vow to Fight Crime While Respecting Sovereignty', 'body': 'Secretary of State Marco Rubio met with President Claudia Sheinbaum, after she pressed the Trump administration not to take unilateral action in Mexico.', 'url': 'https://www.nytimes.com/2025/09/03/world/americas/us-mexico-rubio-sheinbaum-crime.html', 'image': 'https://static01.nyt.com/images/2025/09/03/multimedia/03int-rubio-mexico-01-qztb/03int-rubio-mexico-01-qztb-facebookJumbo.jpg', 'source': 'The New York Times'}, {'date': '2025-09-03T17:59:03+00:00', 'title': 'Feds intercept 1,300 barrels of meth precursor chemicals shipped from China to Mexico', 'body': \"Federal officials seized 697,000 pounds of methamphetamine precursor chemicals from China bound for Mexico's Sinaloa Cartel in the largest bust of its kind.\", 'url': 'https://www.msn.com/en-us/news/world/feds-intercept-1-300-barrels-of-meth-precursor-chemicals-shipped-from-china-to-mexico/ar-AA1LOdaP', 'image': 'https://img-s-msn-com.akamaized.net/tenant/amp/entityid/AA1LOncd.img?w=1280&h=720&m=4&q=86', 'source': 'Fox News'}, {'date': '2025-09-03T17:17:00+00:00', 'title': 'Mexico braces for Hurricane Lorena as flooding rain may spread into southwestern US', 'body': \"Hurricane Lorena is forecast to strengthen and bring dangerous flooding, wind and surf to Mexico, while parts of the U.S. Southwest may face flooding depending on the storm's track.\", 'url': 'https://www.yahoo.com/news/articles/mexico-braces-hurricane-lorena-flooding-155620231.html', 'image': 'https://media.zenfs.com/en/accuweather_articles_339/d251be4bfdd5d65d5a8afcda5e3d3472', 'source': 'Yahoo'}, {'date': '2025-09-03T13:59:00+00:00', 'title': \"Maps show Hurricane Lorena's path and forecast in Pacific as it threatens Mexico\", 'body': \"Hurricane Lorena is threatening to bring heavy rains and flash floods to Mexico's Baja California peninsula. Hurricane Kiko is much farther west over the Pacific and isn't considered a threat to land.\", 'url': 'https://www.msn.com/en-us/weather/topstories/maps-show-hurricane-lorenas-path-and-forecast-in-pacific/ar-AA1LMUg7', 'image': 'https://assets2.cbsnewsstatic.com/hub/i/r/2025/09/03/13bc32e5-afbb-4bfb-8b67-a033b39bd958/thumbnail/1200x630/cf07de984446ff2f14637d09a6b171b4/lorena-650a-090325.png', 'source': 'CBS News'}, {'date': '2025-09-04T00:55:00+00:00', 'title': 'U.S. and Mexico reaffirm security cooperation amid tariff tensions', 'body': 'The countries agreed to work closer together to stop the flow of fentanyl and other synthetic drugs, the trafficking of firearms from the U.S. into Mexico, and irregular migration across the shared border.', 'url': 'https://www.tpr.org/government-politics/2025-09-03/u-s-and-mexico-reaffirm-security-cooperation-amid-tariff-tensions', 'image': 'https://npr.brightspotcdn.com/dims4/default/27f03c8/2147483647/strip/true/crop/1280x672+0+91/resize/1200x630!/quality/90/?url=http://npr-brightspot.s3.amazonaws.com/1d/8f/295ffd3f479eb0bfa851627fa7ee/photo-2025-09-03-15-49-55.jpg', 'source': 'Texas Public Radio'}, {'date': '2025-09-03T16:55:00+00:00', 'title': 'Hurricane Lorena intensifies off the western coast of Mexico as Kiko travels over open waters', 'body': \"Hurricane Lorena is intensifying off the coast of Mexico's Baja California peninsula. Forecasters have issued a tropical storm warning for parts of the area. The U.S.\", 'url': 'https://www.msn.com/en-us/weather/topstories/hurricane-lorena-intensifies-off-the-western-coast-of-mexico-as-kiko-travels-over-open-waters/ar-AA1LMrkz', 'image': 'https://dims.apnews.com/dims4/default/2d2654f/2147483647/strip/true/crop/1279x719+0+275/resize/1440x810!/quality/90/?url=https://assets.apnews.com/dd/06/5ce9ced9cd704a7dda6fce1c5582/6da5c7bc72ff456e9f47b577f732c206', 'source': 'Associated Press News'}, {'date': '2025-09-03T13:02:00+00:00', 'title': 'As Rubio Visits Mexico, Its President Walks a Political Tightrope', 'body': 'U.S. pressure to crack down on corrupt politicians has squeezed President Claudia Sheinbaum of Mexico ahead of her meeting with Secretary of State Marco Rubio.', 'url': 'https://www.nytimes.com/2025/09/03/world/americas/mexico-rubio-sheinbaum.html', 'image': 'https://static01.nyt.com/images/2025/09/03/multimedia/03int-mexico-sheinbaum-01-zjfm/03int-mexico-sheinbaum-01-zjfm-facebookJumbo.jpg', 'source': 'The New York Times'}]\n",
      "~~~~ The tool being used: news ~~~~~\n",
      "\n",
      "\n",
      "\n",
      "Recent news from Mexico includes preparations for the World Cup 2026, reaffirmation of U.S.-Mexico security cooperation, concerns over Hurricane Lorena, a major drug bust, and political challenges for President Claudia Sheinbaum during a visit from Secretary of State Marco Rubio.\n"
     ]
    }
   ],
   "source": [
    "output = tool_calling_agent(\"What is the latest news of Mexico?\", verbose=True)\n",
    "print(output)"
   ]
  },
  {
   "cell_type": "code",
   "execution_count": null,
   "id": "0ad73a44-07a6-44a9-90d0-a940cd5c4f0c",
   "metadata": {},
   "outputs": [],
   "source": []
  }
 ],
 "metadata": {
  "kernelspec": {
   "display_name": "Python 3 (ipykernel)",
   "language": "python",
   "name": "python3"
  },
  "language_info": {
   "codemirror_mode": {
    "name": "ipython",
    "version": 3
   },
   "file_extension": ".py",
   "mimetype": "text/x-python",
   "name": "python",
   "nbconvert_exporter": "python",
   "pygments_lexer": "ipython3",
   "version": "3.12.11"
  }
 },
 "nbformat": 4,
 "nbformat_minor": 5
}
